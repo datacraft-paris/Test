{
 "cells": [
  {
   "cell_type": "markdown",
   "id": "b382ea7a",
   "metadata": {},
   "source": [
    "## How to best aggregate / cluster similar causes and effects and represent them\n",
    "\n"
   ]
  },
  {
   "cell_type": "code",
   "execution_count": 9,
   "id": "99b4ac77",
   "metadata": {},
   "outputs": [
    {
     "name": "stdout",
     "output_type": "stream",
     "text": [
      "Error processing line 1 of /usr/local/lib/python3.6/dist-packages/vision-1.0.0-nspkg.pth:\n",
      "\n",
      "  Traceback (most recent call last):\n",
      "    File \"/usr/lib/python3.6/site.py\", line 174, in addpackage\n",
      "      exec(line)\n",
      "    File \"<string>\", line 1, in <module>\n",
      "    File \"<frozen importlib._bootstrap>\", line 568, in module_from_spec\n",
      "  AttributeError: 'NoneType' object has no attribute 'loader'\n",
      "\n",
      "Remainder of file ignored\n",
      "Defaulting to user installation because normal site-packages is not writeable\n",
      "Requirement already satisfied: vision in /usr/local/lib/python3.6/dist-packages (1.0.0)\n"
     ]
    }
   ],
   "source": [
    "!pip install vision"
   ]
  },
  {
   "cell_type": "code",
   "execution_count": 1,
   "id": "b904d3b3",
   "metadata": {},
   "outputs": [
    {
     "ename": "ModuleNotFoundError",
     "evalue": "No module named 'vision'",
     "output_type": "error",
     "traceback": [
      "\u001b[0;31m---------------------------------------------------------------------------\u001b[0m",
      "\u001b[0;31mModuleNotFoundError\u001b[0m                       Traceback (most recent call last)",
      "\u001b[0;32m<ipython-input-1-d22c7d4c77be>\u001b[0m in \u001b[0;36m<module>\u001b[0;34m\u001b[0m\n\u001b[0;32m----> 1\u001b[0;31m \u001b[0;32mimport\u001b[0m \u001b[0mvision\u001b[0m\u001b[0;34m\u001b[0m\u001b[0;34m\u001b[0m\u001b[0m\n\u001b[0m",
      "\u001b[0;31mModuleNotFoundError\u001b[0m: No module named 'vision'"
     ]
    }
   ],
   "source": [
    "import vision"
   ]
  },
  {
   "cell_type": "code",
   "execution_count": 31,
   "id": "57feba99",
   "metadata": {},
   "outputs": [],
   "source": [
    "########## Load causes and effects dataset #############\n",
    "\n",
    "# By default a diabetes dataset is given, but feel free to give your predicted cancer cause-effect set\n",
    "\n",
    "import pandas as pd\n",
    "from ast import literal_eval\n",
    "\n",
    "causes_effects = pd.read_csv(\"data/diabetes_cause_effect_sentences.csv\", sep=\";\", converters={\"tokenized\":literal_eval, \"io_tags\":literal_eval})\n",
    "print(causes_effects.shape)\n",
    "causes_effects.head()"
   ]
  },
  {
   "cell_type": "code",
   "execution_count": null,
   "id": "4828113c",
   "metadata": {},
   "outputs": [],
   "source": []
  },
  {
   "cell_type": "code",
   "execution_count": null,
   "id": "18b1e6ba",
   "metadata": {},
   "outputs": [],
   "source": [
    "######## Extract causes and effects from io tags #############\n",
    "\n",
    "def extract_causes_effects(row):\n",
    "    \"\"\" Extracts causes and effects from the io_tags column and saves them in new columns \"\"\"\n",
    "\n",
    "    \n",
    "    if len(row[\"tokenized\"]) != len(row[\"io_tags\"]):\n",
    "        print(\"ERROR: Tokenized and tags are not of same length!\")\n",
    "    \n",
    "    causes = \"\"\n",
    "    effects = \"\"\n",
    "    last_tag_cause_index = -2\n",
    "    last_tag_effect_index = -2\n",
    "    for i, tag in enumerate(row.io_tags):\n",
    "        if tag == \"I-C\":\n",
    "            if i == last_tag_cause_index + 1: # True, if cause consist of several consecutive words\n",
    "                causes += \",\"+row[\"tokenized\"][i]\n",
    "            else: # cause is a new separate cause\n",
    "                causes += \";\"+row[\"tokenized\"][i]\n",
    "            last_tag_cause_index = i # helps to test if causes and effects consist of CONSECUTIVE words\n",
    "\n",
    "        elif tag == \"I-E\":\n",
    "            if i == last_tag_effect_index + 1: # True, if cause consist of several consecutive words\n",
    "                effects += \",\"+row[\"tokenized\"][i]\n",
    "            else: # cause is a new separate cause\n",
    "                effects += \";\"+row[\"tokenized\"][i]\n",
    "            last_tag_effect_index = i # helps to test if causes and effects consist of CONSECUTIVE words\n",
    "    \n",
    "    if causes.startswith(\",\") or causes.startswith(\";\"):\n",
    "        causes = causes[1:]\n",
    "    if effects.startswith(\",\") or effects.startswith(\";\"):\n",
    "        effects = effects[1:]        \n",
    "\n",
    "    \n",
    "    return pd.Series([row.index, row.text, row.tokenized, row.io_tags, causes, effects]\n",
    "                     , index=[\"index\", \"text\", \"tokenized\", \"io_tags\", \"causes\", \"effects\"])\n",
    "\n",
    "\n",
    "df_causes_effects = causes_effects.apply(extract_causes_effects, axis=1)\n",
    "print(df_causes_effects.shape)\n",
    "df_causes_effects.head()"
   ]
  },
  {
   "cell_type": "markdown",
   "id": "b09a3177",
   "metadata": {},
   "source": [
    "**Attention:** \n",
    "a cause (can consist of multiple words) is separate by \",\" in the column \"causes\" and \"effect\", e.g. type,2,diabetes\n",
    "if several causes exist in a sentence, then they are separated by \";\""
   ]
  },
  {
   "cell_type": "code",
   "execution_count": null,
   "id": "8c9e6166",
   "metadata": {},
   "outputs": [],
   "source": [
    "######## Only consider sentences with both cause AND effect #############\n",
    "\n",
    "df_new = df_causes_effects[(df_causes_effects.causes.str.len() > 0 ) & (df_causes_effects.effects.str.len() > 0)]\n",
    "df_new.reset_index(drop=True, inplace=True)\n",
    "print(df_new.shape)\n",
    "df_new.head()\n"
   ]
  },
  {
   "cell_type": "code",
   "execution_count": null,
   "id": "17bac683",
   "metadata": {},
   "outputs": [],
   "source": [
    "################## SPLIT CAUSES AND EFFECTS s.t. each row has one cause and one effect #######################\n",
    "df_new = df_new.assign(causes=df_new[\"causes\"].str.split(\";\")).explode(\"causes\")\n",
    "df_new = df_new.assign(effects=df_new[\"effects\"].str.split(\";\")).explode(\"effects\")\n",
    "df_new.reset_index(drop=True, inplace=True)\n",
    "print(df_new.shape)\n",
    "df_new.head(20)"
   ]
  },
  {
   "cell_type": "code",
   "execution_count": null,
   "id": "9606d515",
   "metadata": {},
   "outputs": [],
   "source": [
    "########## load FastText vectors #####################\n",
    "from gensim.models.fasttext import FastText\n",
    "model = FastText.load(path_we)"
   ]
  },
  {
   "cell_type": "code",
   "execution_count": null,
   "id": "43fe92f8",
   "metadata": {},
   "outputs": [],
   "source": [
    "########### Load manual diabetes clusters ###########\n",
    "manual_clusters = pd.read_csv(\"data/manual_diabetes_clusters.csv\", sep=\";\")\n",
    "print(manual_clusters.shape)\n",
    "manual_clusters.head()"
   ]
  },
  {
   "cell_type": "code",
   "execution_count": null,
   "id": "35a01ad9",
   "metadata": {},
   "outputs": [],
   "source": []
  },
  {
   "cell_type": "code",
   "execution_count": null,
   "id": "33f44ec8",
   "metadata": {},
   "outputs": [],
   "source": []
  }
 ],
 "metadata": {
  "kernelspec": {
   "display_name": "Python 3",
   "language": "python",
   "name": "python3"
  },
  "language_info": {
   "codemirror_mode": {
    "name": "ipython",
    "version": 3
   },
   "file_extension": ".py",
   "mimetype": "text/x-python",
   "name": "python",
   "nbconvert_exporter": "python",
   "pygments_lexer": "ipython3",
   "version": "3.6.9"
  }
 },
 "nbformat": 4,
 "nbformat_minor": 5
}
